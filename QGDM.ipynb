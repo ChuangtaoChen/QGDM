{
 "cells": [
  {
   "cell_type": "code",
   "outputs": [],
   "source": [
    "# requirements.txt\n",
    "# python==3.8.10\n",
    "# matplotlib==3.7.2\n",
    "# numpy==1.23.5\n",
    "# tensorcircuit==0.11.0\n",
    "# tensorflow==2.9.0\n",
    "# tqdm==4.66.1\n"
   ],
   "metadata": {
    "collapsed": false
   },
   "id": "7efbcfc4ee5a603b"
  },
  {
   "cell_type": "code",
   "execution_count": 1,
   "id": "initial_id",
   "metadata": {
    "collapsed": true,
    "ExecuteTime": {
     "end_time": "2024-07-10T16:20:50.288934Z",
     "start_time": "2024-07-10T16:20:46.888616Z"
    }
   },
   "outputs": [
    {
     "data": {
      "text/plain": "('complex128', 'float64')"
     },
     "execution_count": 1,
     "metadata": {},
     "output_type": "execute_result"
    }
   ],
   "source": [
    "import os\n",
    "os.environ['TF_CPP_MIN_LOG_LEVEL'] = '2'\n",
    "os.environ[\"CUDA_VISIBLE_DEVICES\"] = \"-1\"\n",
    "import tensorflow as tf\n",
    "import numpy as np\n",
    "import tensorcircuit as tc\n",
    "import random\n",
    "from tqdm import tqdm\n",
    "import sys\n",
    "from tensorflow.python.ops.numpy_ops import np_config\n",
    "import matplotlib.pyplot as plt\n",
    "np_config.enable_numpy_behavior()\n",
    "\n",
    "K = tc.set_backend(\"tensorflow\")\n",
    "tc.set_dtype(f\"complex{128}\")"
   ]
  },
  {
   "cell_type": "code",
   "outputs": [],
   "source": [
    "np.random.seed(1)\n",
    "tf.random.set_seed(1)\n",
    "random.seed(1)"
   ],
   "metadata": {
    "collapsed": false,
    "ExecuteTime": {
     "end_time": "2024-07-10T16:20:50.291945Z",
     "start_time": "2024-07-10T16:20:50.289938Z"
    }
   },
   "id": "2383080eef7d9d6e",
   "execution_count": 2
  },
  {
   "cell_type": "code",
   "outputs": [],
   "source": [
    "T = 30  \n",
    "N = 2\n",
    "N_time = N      # by default, N_time = N\n",
    "EPOCHS = 200\n",
    "L_time_rho = 5  # L_{\\mathcal{T}} in paper\n",
    "L_pre_rho = 1   # L in paper\n",
    "batch_size = 16\n",
    "num_mixed = 2\n",
    "lamda = 0.02    # lambda\n",
    "lr = 0.3\n",
    "final_lr = 0.01\n",
    "decay_steps = 200\n",
    "type_target_state = \"random_mixed_state\"     # \"random_pure_state\" or \"random_mixed_state\"\n",
    "model = \"QGDM\"  # \"QGDM\" or \"RQGDM\"\n",
    "final_target_state = True\n",
    "jit_flat = True\n",
    "cm_state = tf.convert_to_tensor(np.identity(2 ** N, dtype=np.complex64) / 2 ** N)  # The completely mixed state."
   ],
   "metadata": {
    "collapsed": false,
    "ExecuteTime": {
     "end_time": "2024-07-10T16:20:50.305994Z",
     "start_time": "2024-07-10T16:20:50.291945Z"
    }
   },
   "id": "121f714427c1b68b",
   "execution_count": 3
  },
  {
   "cell_type": "code",
   "outputs": [],
   "source": [
    "def get_target_state():\n",
    "    qubit_list = [i for i in range(N)]\n",
    "\n",
    "    if type_target_state == \"random_pure_state\":\n",
    "        cir = tc.DMCircuit(N)\n",
    "        # random_theta = np.random.uniform(0, np.pi, size=[args.N * 4])\n",
    "        random_theta = tf.random.uniform(shape=[N * 4], minval=0.00001, maxval=np.pi, dtype=tf.float64)\n",
    "        index = 0\n",
    "        for n in qubit_list:\n",
    "            cir.RX(n, theta=random_theta[index])\n",
    "            index += 1\n",
    "            cir.RZ(n, theta=random_theta[index])\n",
    "            index += 1\n",
    "            cir.RX(n, theta=random_theta[index])\n",
    "            index += 1\n",
    "        if N == 2:\n",
    "            cir.CRX(0, 1, theta=random_theta[index])\n",
    "            index += 1\n",
    "        elif N > 2:\n",
    "            for n0, n1 in zip(qubit_list[:-1], qubit_list[1:]):\n",
    "                cir.CRX(n0, n1, theta=random_theta[index])\n",
    "                index += 1\n",
    "            cir.CRX(qubit_list[-1], qubit_list[0], theta=random_theta[index])\n",
    "            index += 1\n",
    "        return cir.densitymatrix(reuse=False)\n",
    "\n",
    "    elif type_target_state == \"random_mixed_state\":\n",
    "        prob_vector = tf.random.uniform(shape=[num_mixed], minval=0.00001, maxval=1, dtype=tf.float64)\n",
    "        # prob_vector = np.random.uniform(0, 1, size=[args.num_mixed])\n",
    "        prob_vector = tf.nn.softmax(prob_vector)  # softmax operation\n",
    "        random_theta = tf.random.uniform(shape=[num_mixed, N * 4], minval=0., maxval=np.pi, dtype=tf.float64)\n",
    "        # random_theta = np.random.uniform(0, np.pi, size=[args.num_mixed, args.N * 4])\n",
    "        state_list = []\n",
    "        for i in range(num_mixed):\n",
    "            cir = tc.DMCircuit(N)\n",
    "            index = 0\n",
    "            for n in qubit_list:\n",
    "                cir.RX(n, theta=random_theta[i][index])\n",
    "                index += 1\n",
    "                cir.RZ(n, theta=random_theta[i][index])\n",
    "                index += 1\n",
    "                cir.RX(n, theta=random_theta[i][index])\n",
    "                index += 1\n",
    "            if N == 2:\n",
    "                cir.CRX(0, 1, theta=random_theta[i][index])\n",
    "                index += 1\n",
    "            elif N > 2:\n",
    "                for n0, n1 in zip(qubit_list[:-1], qubit_list[1:]):\n",
    "                    cir.CRX(n0, n1, theta=random_theta[i][index])\n",
    "                    index += 1\n",
    "                cir.CRX(qubit_list[-1], qubit_list[0], theta=random_theta[i][index])\n",
    "                index += 1\n",
    "            state_list.append(prob_vector[i] * cir.densitymatrix(reuse=False))\n",
    "        dm = tf.reduce_sum(state_list, axis=0)\n",
    "        return dm"
   ],
   "metadata": {
    "collapsed": false,
    "ExecuteTime": {
     "end_time": "2024-07-10T16:21:41.912569Z",
     "start_time": "2024-07-10T16:21:41.904541Z"
    }
   },
   "id": "2f75535bc6478629",
   "execution_count": 4
  },
  {
   "cell_type": "code",
   "outputs": [],
   "source": [
    "# Denoising circuit\n",
    "def PQC(qubit_list, cir, theta, L, index=0):\n",
    "    \"\"\"     PQC      \"\"\"\n",
    "\n",
    "    for repeat_time in range(1, L + 1):\n",
    "        for n in qubit_list:\n",
    "            cir.RZ(n, theta=theta[index])\n",
    "            index += 1\n",
    "\n",
    "        for n in qubit_list:\n",
    "            cir.RX(n, theta=theta[index])\n",
    "            index += 1\n",
    "\n",
    "        for n0 in qubit_list[:-1]:\n",
    "            for n1 in qubit_list[1:]:\n",
    "                if n0 != n1 and n0 < n1:\n",
    "                    cir.exp1(n0, n1, unitary=tc.gates._xx_matrix, theta=theta[index])\n",
    "                    index += 1\n",
    "\n",
    "    for n in qubit_list:\n",
    "        cir.RZ(n, theta=theta[index])\n",
    "        index += 1\n",
    "\n",
    "    for n in qubit_list:\n",
    "        cir.RX(n, theta=theta[index])\n",
    "        index += 1\n",
    "    \n",
    "    return cir, index"
   ],
   "metadata": {
    "collapsed": false,
    "ExecuteTime": {
     "end_time": "2024-07-10T16:21:43.488169Z",
     "start_time": "2024-07-10T16:21:43.484155Z"
    }
   },
   "id": "13da2fa724ff5f91",
   "execution_count": 5
  },
  {
   "cell_type": "code",
   "outputs": [],
   "source": [
    "# timestep embedding circuit\n",
    "def get_time_emb_rho_no_jit(t, theta):\n",
    "    # print(\"jitting\")\n",
    "    qubit_list = [i for i in range(N_time)]\n",
    "    t_angle = (np.pi / T) * (t - 1)\n",
    "    cir = tc.DMCircuit(N_time)\n",
    "    \"\"\"     Time embedding      \"\"\"\n",
    "    # for n in qubit_list:\n",
    "    #     cir.RX(n, theta=t_angle)\n",
    "    #     cir.RZ(n, theta=t_angle)\n",
    "    #     cir.RX(n, theta=t_angle)\n",
    "    # cir = PQC(qubit_list, cir, theta, L=args.L_time_rho)\n",
    "    index = 0\n",
    "    if N_time > 4:\n",
    "        a = [i for i in range(N_time) if i % 2 == 0]\n",
    "        b = [i for i in range(N_time) if (i + 1) % 2 == 0]\n",
    "    for i in range(L_time_rho):\n",
    "        for n in range(N_time):\n",
    "            cir.RX(n, theta=t_angle)\n",
    "\n",
    "        if N_time == 1:\n",
    "            pass\n",
    "\n",
    "        elif N_time == 2:\n",
    "            cir.exp1(0, 1, unitary=tc.gates._zz_matrix, theta=theta[index])\n",
    "            index += 1\n",
    "\n",
    "        elif N_time == 3:\n",
    "            cir.exp1(0, 1, unitary=tc.gates._zz_matrix, theta=theta[index])\n",
    "            index += 1\n",
    "            cir.exp1(1, 2, unitary=tc.gates._zz_matrix, theta=theta[index])\n",
    "            index += 1\n",
    "            # cir.exp1(2, 0, unitary=tc.gates._zz_matrix, theta=theta[index])\n",
    "            # index += 1\n",
    "\n",
    "        elif N_time == 4:\n",
    "            cir.exp1(0, 1, unitary=tc.gates._zz_matrix, theta=theta[index])\n",
    "            index += 1\n",
    "            cir.exp1(2, 3, unitary=tc.gates._zz_matrix, theta=theta[index])\n",
    "            index += 1\n",
    "            cir.exp1(1, 2, unitary=tc.gates._zz_matrix, theta=theta[index])\n",
    "            index += 1\n",
    "            cir.exp1(3, 0, unitary=tc.gates._zz_matrix, theta=theta[index])\n",
    "            index += 1\n",
    "        elif N_time == 5:\n",
    "            cir.exp1(0, 1, unitary=tc.gates._zz_matrix, theta=theta[index])\n",
    "            index += 1\n",
    "            cir.exp1(2, 3, unitary=tc.gates._zz_matrix, theta=theta[index])\n",
    "            index += 1\n",
    "            cir.exp1(1, 2, unitary=tc.gates._zz_matrix, theta=theta[index])\n",
    "            index += 1\n",
    "            cir.exp1(3, 4, unitary=tc.gates._zz_matrix, theta=theta[index])\n",
    "            index += 1\n",
    "        elif N_time == 6:\n",
    "            cir.exp1(0, 1, unitary=tc.gates._zz_matrix, theta=theta[index])\n",
    "            index += 1\n",
    "            cir.exp1(2, 3, unitary=tc.gates._zz_matrix, theta=theta[index])\n",
    "            index += 1\n",
    "            cir.exp1(4, 5, unitary=tc.gates._zz_matrix, theta=theta[index])\n",
    "            index += 1\n",
    "            cir.exp1(1, 2, unitary=tc.gates._zz_matrix, theta=theta[index])\n",
    "            index += 1\n",
    "            cir.exp1(3, 4, unitary=tc.gates._zz_matrix, theta=theta[index])\n",
    "            index += 1\n",
    "            cir.exp1(5, 0, unitary=tc.gates._zz_matrix, theta=theta[index])\n",
    "            index += 1\n",
    "        elif N_time == 7:\n",
    "            cir.exp1(0, 1, unitary=tc.gates._zz_matrix, theta=theta[index])\n",
    "            index += 1\n",
    "            cir.exp1(2, 3, unitary=tc.gates._zz_matrix, theta=theta[index])\n",
    "            index += 1\n",
    "            cir.exp1(4, 5, unitary=tc.gates._zz_matrix, theta=theta[index])\n",
    "            index += 1\n",
    "            cir.exp1(1, 2, unitary=tc.gates._zz_matrix, theta=theta[index])\n",
    "            index += 1\n",
    "            cir.exp1(3, 4, unitary=tc.gates._zz_matrix, theta=theta[index])\n",
    "            index += 1\n",
    "            cir.exp1(5, 6, unitary=tc.gates._zz_matrix, theta=theta[index])\n",
    "            index += 1\n",
    "        elif N_time == 8:\n",
    "            cir.exp1(0, 1, unitary=tc.gates._zz_matrix, theta=theta[index])\n",
    "            index += 1\n",
    "            cir.exp1(2, 3, unitary=tc.gates._zz_matrix, theta=theta[index])\n",
    "            index += 1\n",
    "            cir.exp1(4, 5, unitary=tc.gates._zz_matrix, theta=theta[index])\n",
    "            index += 1\n",
    "            cir.exp1(6, 7, unitary=tc.gates._zz_matrix, theta=theta[index])\n",
    "            index += 1\n",
    "            cir.exp1(1, 2, unitary=tc.gates._zz_matrix, theta=theta[index])\n",
    "            index += 1\n",
    "            cir.exp1(3, 4, unitary=tc.gates._zz_matrix, theta=theta[index])\n",
    "            index += 1\n",
    "            cir.exp1(5, 6, unitary=tc.gates._zz_matrix, theta=theta[index])\n",
    "            index += 1\n",
    "            cir.exp1(7, 0, unitary=tc.gates._zz_matrix, theta=theta[index])\n",
    "            index += 1\n",
    "        for n in range(N_time):\n",
    "            cir.RY(n, theta=theta[index])\n",
    "            index += 1\n",
    "\n",
    "    for n in range(N_time):\n",
    "        cir.RX(n, theta=t_angle)\n",
    "\n",
    "    return cir.densitymatrix()"
   ],
   "metadata": {
    "collapsed": false,
    "ExecuteTime": {
     "end_time": "2024-07-10T16:21:44.312057Z",
     "start_time": "2024-07-10T16:21:44.301018Z"
    }
   },
   "id": "4f0fac6bacf4cc78",
   "execution_count": 6
  },
  {
   "cell_type": "code",
   "outputs": [],
   "source": [
    "# backward process\n",
    "def get_pre_rho_t_1_no_jit(theta, rho_t, time_emb_rho):\n",
    "    if model == \"QGDM\":\n",
    "\n",
    "        dminputs = K.kron(rho_t, time_emb_rho)\n",
    "        qubit_list = [i for i in range(N + N_time)]\n",
    "        cir = tc.DMCircuit(N + N_time, dminputs=dminputs)\n",
    "        \"\"\"     PQC      \"\"\"\n",
    "        cir, _ = PQC(qubit_list, cir, theta, L=L_pre_rho)\n",
    "        # The first N_time qubits will be traced out.\n",
    "\n",
    "        return tc.quantum.reduced_density_matrix(cir.densitymatrix(), cut=N_time)\n",
    "\n",
    "    elif model == \"RQGDM\":\n",
    "        # dminputs = K.kron(rho_t, time_emb_rho)\n",
    "        qubit_list = [i for i in range(N)]\n",
    "        qubit_list2 = [i for i in range(N+1)]\n",
    "        cir = tc.DMCircuit(N, dminputs=rho_t)\n",
    "        index = 0\n",
    "        \"\"\"     PQC      \"\"\"\n",
    "        cir, index = PQC(qubit_list, cir, theta, L=L_pre_rho, index=index)\n",
    "        # The first N_time qubits will be traced out.\n",
    "        reduced_dm = tc.quantum.reduced_density_matrix(cir.densitymatrix(), cut=N - 1)\n",
    "        # print(reduced_dm)\n",
    "        dminputs = K.kron(reduced_dm, time_emb_rho)\n",
    "        cir2 = tc.DMCircuit(N + 1, dminputs=dminputs)\n",
    "        \"\"\"     PQC      \"\"\"\n",
    "        cir2, index = PQC(qubit_list2, cir2, theta, L=L_pre_rho, index=index)\n",
    "        # The first N_time qubits will be traced out.\n",
    "        return tc.quantum.reduced_density_matrix(cir2.densitymatrix(),  cut=1)\n"
   ],
   "metadata": {
    "collapsed": false,
    "ExecuteTime": {
     "end_time": "2024-07-10T16:21:45.665495Z",
     "start_time": "2024-07-10T16:21:45.660477Z"
    }
   },
   "id": "a6f0680ac5e73c34",
   "execution_count": 7
  },
  {
   "cell_type": "code",
   "outputs": [],
   "source": [
    "# Eq. (2) in paper\n",
    "def cum_depolarizing_channel_no_jit(rho, p):\n",
    "    return (1 - p) * cm_state + p * rho"
   ],
   "metadata": {
    "collapsed": false,
    "ExecuteTime": {
     "end_time": "2024-07-10T16:21:46.712044Z",
     "start_time": "2024-07-10T16:21:46.709033Z"
    }
   },
   "id": "17c763c2b5352682",
   "execution_count": 8
  },
  {
   "cell_type": "code",
   "outputs": [],
   "source": [
    "# Section 3.2.2 Noise Schedule\n",
    "def f(t):\n",
    "    return np.cos((np.pi / 2) * (t / (T - 1) + 0.008) / (1 + 0.008)) ** 2\n",
    "f0 = f(0)\n",
    "alpha_cum = [f0]\n",
    "for t in range(1, T):\n",
    "    alpha_cum.append(f(t) / f0)\n",
    "alpha_cum  = np.array(alpha_cum)\n",
    "alpha_cum = tf.convert_to_tensor(alpha_cum)"
   ],
   "metadata": {
    "collapsed": false,
    "ExecuteTime": {
     "end_time": "2024-07-10T16:21:47.837982Z",
     "start_time": "2024-07-10T16:21:47.834971Z"
    }
   },
   "id": "6f2c69c142d80f7a",
   "execution_count": 9
  },
  {
   "cell_type": "code",
   "outputs": [],
   "source": [
    "# \n",
    "if jit_flat:\n",
    "    cum_depolarizing_channel = tf.function(cum_depolarizing_channel_no_jit)\n",
    "    get_time_emb_rho = tf.function(get_time_emb_rho_no_jit)\n",
    "    get_pre_rho_t_1 = tf.function(get_pre_rho_t_1_no_jit)\n",
    "\n",
    "else:\n",
    "    cum_depolarizing_channel = cum_depolarizing_channel_no_jit\n",
    "    get_time_emb_rho = get_time_emb_rho_no_jit\n",
    "    get_pre_rho_t_1 = get_pre_rho_t_1_no_jit"
   ],
   "metadata": {
    "collapsed": false,
    "ExecuteTime": {
     "end_time": "2024-07-10T16:21:48.640680Z",
     "start_time": "2024-07-10T16:21:48.636667Z"
    }
   },
   "id": "4f09d7374c5097dc",
   "execution_count": 10
  },
  {
   "cell_type": "code",
   "outputs": [
    {
     "name": "stderr",
     "output_type": "stream",
     "text": [
      "loss 0.005510: 100%|██████████| 200/200 [00:50<00:00,  3.93it/s]\n"
     ]
    },
    {
     "data": {
      "text/plain": "<Figure size 640x480 with 1 Axes>",
      "image/png": "[encoded data removed]"
     },
     "metadata": {},
     "output_type": "display_data"
    }
   ],
   "source": [
    "target_state = get_target_state()\n",
    "time_step_list = [i for i in range(2, T + 1)]\n",
    "time_step_list.reverse()  # [T, T-1, ..., 2, 1]\n",
    "\n",
    "Ntime_big = 1 if N >= N_time else 2\n",
    "double = 2 if model == \"RQGDM\" else 1\n",
    "if N == 1:\n",
    "    n_theta = Ntime_big * 4 * N * (L_pre_rho + 1) + L_pre_rho\n",
    "else:\n",
    "    n_theta = Ntime_big * double * (int(4 * N * (L_pre_rho + 1) + L_pre_rho * 2 * N * (2 * N - 1) / 2) + 1)\n",
    "\n",
    "# \n",
    "Theta = tf.Variable(tf.random.uniform(shape=[2, n_theta], minval=0., maxval=np.pi, dtype=tf.float64))\n",
    "tqdm_bar = tqdm(range(EPOCHS))\n",
    "\n",
    "schedules = tf.keras.optimizers.schedules.CosineDecay(initial_learning_rate=lr, decay_steps=decay_steps, alpha=final_lr / lr)\n",
    "opt = tf.optimizers.Adam(learning_rate=schedules)\n",
    "loss_list = []\n",
    "\n",
    "# training\n",
    "for epoch in tqdm_bar:\n",
    "    time_loss, fidelity, loss, epoch_loss_list, = [], 0, 0, []\n",
    "    time_list = np.random.choice(time_step_list, size=[batch_size], replace=False)\n",
    "    time_list = np.concatenate([[1], time_list])\n",
    "    \n",
    "    with tf.GradientTape() as tape:\n",
    "        tape.watch(Theta)\n",
    "        \n",
    "        for t in time_list:  # 10 9 8 7 .. 1\n",
    "            # get target state \\rho^{true}_{t-1}\n",
    "            if t != 1:  # T T-1 T-2 ... 4 3 2\n",
    "                rho_t_1 = cum_depolarizing_channel(rho=target_state, p=alpha_cum[t - 2])\n",
    "            else:  # 1\n",
    "                if final_target_state:\n",
    "                    rho_t_1 = target_state\n",
    "                else:\n",
    "                    rho_t_1 = cum_depolarizing_channel(rho=target_state, p=tf.convert_to_tensor([0.9999]))\n",
    "        \n",
    "            rho_t = cum_depolarizing_channel(rho=target_state, p=alpha_cum[t - 1])  #\n",
    "        \n",
    "            time_emb_rho = get_time_emb_rho(theta=Theta[0], t=t)\n",
    "            pre_rho_t_1 = get_pre_rho_t_1(theta=Theta[1], rho_t=rho_t, time_emb_rho=time_emb_rho)\n",
    "            # compute quantum state fidelity\n",
    "            try:\n",
    "                fid = tc.quantum.fidelity(rho_t_1, pre_rho_t_1)\n",
    "            except:\n",
    "                print(epoch, t, rho_t, pre_rho_t_1, pre_rho_t_1, time_emb_rho,\n",
    "                      pre_rho_t_1, Theta, grad)\n",
    "                sys.exit()\n",
    "            l = 1 - fid\n",
    "            epoch_loss_list.append(l * lamda if t != 1 else l)\n",
    "            fidelity += fid\n",
    "\n",
    "        loss = epoch_loss_list[0] + tf.reduce_mean(epoch_loss_list[1:])\n",
    "    tqdm_bar.set_description(\"loss %f\" % float(loss))  # 设置描述\n",
    "    grad = tape.gradient(loss, Theta)  # 求导\n",
    "\n",
    "    opt.apply_gradients([(grad, var) for grad, var in zip([grad], [Theta])])\n",
    "    loss_list.append(loss)\n",
    "plt.plot(loss_list)\n",
    "plt.xlabel(\"epoch\")\n",
    "plt.ylabel(\"loss\")\n",
    "plt.show()"
   ],
   "metadata": {
    "collapsed": false,
    "ExecuteTime": {
     "end_time": "2024-07-10T16:22:41.631512Z",
     "start_time": "2024-07-10T16:21:50.294598Z"
    }
   },
   "id": "e335ea72da4b872a",
   "execution_count": 11
  },
  {
   "cell_type": "code",
   "outputs": [
    {
     "name": "stdout",
     "output_type": "stream",
     "text": [
      "30 tf.Tensor(0.5694091118806546, shape=(), dtype=float64)\n",
      "29 tf.Tensor(0.6405816775738131, shape=(), dtype=float64)\n",
      "28 tf.Tensor(0.6877899612130246, shape=(), dtype=float64)\n",
      "27 tf.Tensor(0.7066400548509734, shape=(), dtype=float64)\n",
      "26 tf.Tensor(0.7077164067730615, shape=(), dtype=float64)\n",
      "25 tf.Tensor(0.7040920648826753, shape=(), dtype=float64)\n",
      "24 tf.Tensor(0.7061271143035021, shape=(), dtype=float64)\n",
      "23 tf.Tensor(0.7185272847364031, shape=(), dtype=float64)\n",
      "22 tf.Tensor(0.7398806824488218, shape=(), dtype=float64)\n",
      "21 tf.Tensor(0.7648145024502897, shape=(), dtype=float64)\n",
      "20 tf.Tensor(0.7884321520089963, shape=(), dtype=float64)\n",
      "19 tf.Tensor(0.8106854256826533, shape=(), dtype=float64)\n",
      "18 tf.Tensor(0.8358279020799908, shape=(), dtype=float64)\n",
      "17 tf.Tensor(0.8657516201404072, shape=(), dtype=float64)\n",
      "16 tf.Tensor(0.8965700055965488, shape=(), dtype=float64)\n",
      "15 tf.Tensor(0.9231789898423741, shape=(), dtype=float64)\n",
      "14 tf.Tensor(0.943044376623276, shape=(), dtype=float64)\n",
      "13 tf.Tensor(0.9561780648029218, shape=(), dtype=float64)\n",
      "12 tf.Tensor(0.9640068075007858, shape=(), dtype=float64)\n",
      "11 tf.Tensor(0.9684228068023911, shape=(), dtype=float64)\n",
      "10 tf.Tensor(0.9711303280815033, shape=(), dtype=float64)\n",
      "9 tf.Tensor(0.973230277248228, shape=(), dtype=float64)\n",
      "8 tf.Tensor(0.9751377485103015, shape=(), dtype=float64)\n",
      "7 tf.Tensor(0.9769093746365402, shape=(), dtype=float64)\n",
      "6 tf.Tensor(0.9787786648190172, shape=(), dtype=float64)\n",
      "5 tf.Tensor(0.9813554129596556, shape=(), dtype=float64)\n",
      "4 tf.Tensor(0.9852427340964199, shape=(), dtype=float64)\n",
      "3 tf.Tensor(0.9903294161120659, shape=(), dtype=float64)\n",
      "2 tf.Tensor(0.9954773458909771, shape=(), dtype=float64)\n",
      "1 tf.Tensor(0.9986843625263832, shape=(), dtype=float64)\n"
     ]
    }
   ],
   "source": [
    "# generation\n",
    "time_step_list = [i for i in range(1, T + 1)]\n",
    "time_step_list.reverse()\n",
    "if final_target_state:\n",
    "    rho_t = cm_state\n",
    "else:\n",
    "    rho_t = cum_depolarizing_channel_no_jit(rho=target_state, p=alpha_cum[-1])\n",
    "gene_real_list = []\n",
    "gene_imag_list = []\n",
    "generation_fidelity_list = []\n",
    "time_emb_rho_list = {}\n",
    "\n",
    "for t in time_step_list:\n",
    "    time_emb_rho = get_time_emb_rho_no_jit(theta=Theta[0], t=t)\n",
    "    time_emb_rho_list.update({t: np.array(time_emb_rho)})\n",
    "    pre_rho_t_1 = get_pre_rho_t_1_no_jit(theta=Theta[1], rho_t=rho_t, time_emb_rho=time_emb_rho)\n",
    "\n",
    "    fid = tc.quantum.fidelity(target_state, pre_rho_t_1)\n",
    "    print(t, fid)\n",
    "    generation_fidelity_list.append(fid)\n",
    "    \n",
    "    gene_real_list.append(tf.math.real(pre_rho_t_1))\n",
    "    gene_imag_list.append(tf.math.imag(pre_rho_t_1))\n",
    "    \n",
    "    del rho_t\n",
    "    rho_t = pre_rho_t_1\n",
    "    \n"
   ],
   "metadata": {
    "collapsed": false,
    "ExecuteTime": {
     "end_time": "2024-07-10T16:22:47.507583Z",
     "start_time": "2024-07-10T16:22:46.240153Z"
    }
   },
   "id": "3fa31775467f8077",
   "execution_count": 12
  },
  {
   "cell_type": "code",
   "outputs": [
    {
     "data": {
      "text/plain": "<Figure size 640x480 with 1 Axes>",
      "image/png": "[encoded data removed]"
     },
     "metadata": {},
     "output_type": "display_data"
    }
   ],
   "source": [
    "plt.plot(generation_fidelity_list, label=\"generation_fidelity\")\n",
    "plt.legend()\n",
    "plt.xticks([0, 5, 10, 15, 20, 25, 30], ['30', '25', '20', '15', '10', '5', '1'])\n",
    "plt.xlabel(\"t\")\n",
    "plt.ylabel(\"Fidelity\")\n",
    "plt.show()"
   ],
   "metadata": {
    "collapsed": false,
    "ExecuteTime": {
     "end_time": "2024-07-10T16:22:50.929647Z",
     "start_time": "2024-07-10T16:22:50.872941Z"
    }
   },
   "id": "c21d0df978451c77",
   "execution_count": 13
  },
  {
   "cell_type": "code",
   "outputs": [],
   "source": [],
   "metadata": {
    "collapsed": false
   },
   "id": "e19b3ec3b2f00273"
  }
 ],
 "metadata": {
  "kernelspec": {
   "display_name": "Python 3",
   "language": "python",
   "name": "python3"
  },
  "language_info": {
   "codemirror_mode": {
    "name": "ipython",
    "version": 2
   },
   "file_extension": ".py",
   "mimetype": "text/x-python",
   "name": "python",
   "nbconvert_exporter": "python",
   "pygments_lexer": "ipython2",
   "version": "2.7.6"
  }
 },
 "nbformat": 4,
 "nbformat_minor": 5
}
